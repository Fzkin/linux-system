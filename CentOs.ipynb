{
 "cells": [
  {
   "cell_type": "markdown",
   "metadata": {},
   "source": [
    "### 换ali源"
   ]
  },
  {
   "cell_type": "markdown",
   "metadata": {},
   "source": [
    ">1.备份    \n",
    "mv /etc/yum.repos.d/CentOS-Base.repo /etc/yum.repos.d/CentOS-Base.repo.backup     \n",
    ">\n",
    ">2.下载新的CentOS-Base.repo 到 /etc/yum.repos.d/  （我这里用的CentOS 7.0）     \n",
    "curl -o /etc/yum.repos.d/CentOS-Base.repo http://mirrors.aliyun.com/repo/Centos-7.repo    \n",
    ">\n",
    ">3、之后先清除缓存再生成缓存   \n",
    "清除缓存   \n",
    "yum clean all   \n",
    "生成缓存   \n",
    "yum makecache   "
   ]
  },
  {
   "cell_type": "markdown",
   "metadata": {},
   "source": [
    "# anaconda 配置"
   ]
  },
  {
   "cell_type": "markdown",
   "metadata": {},
   "source": [
    ">清华镜像https://mirrors.tuna.tsinghua.edu.cn/anaconda/archive/?C=M&O=A"
   ]
  },
  {
   "cell_type": "markdown",
   "metadata": {},
   "source": [
    "1.添加清华源  \n",
    ">  \n",
    "命令行中直接使用以下命令  \n",
    ">  \n",
    "conda config --add channels https://mirrors.tuna.tsinghua.edu.cn/anaconda/pkgs/free/  \n",
    "conda config --add channels https://mirrors.tuna.tsinghua.edu.cn/anaconda/cloud/conda-forge   \n",
    "conda config --add channels https://mirrors.tuna.tsinghua.edu.cn/anaconda/cloud/msys2/  \n",
    ">  \n",
    "设置搜索时显示通道地址  \n",
    "conda config --set show_channel_urls yes  \n",
    ">  \n",
    "\n",
    "2 添加中科大源  \n",
    ">  \n",
    "conda config --add channels https://mirrors.ustc.edu.cn/anaconda/pkgs/main/  \n",
    "conda config --add channels https://mirrors.ustc.edu.cn/anaconda/pkgs/free/  \n",
    "conda config --add channels https://mirrors.ustc.edu.cn/anaconda/cloud/conda-forge/  \n",
    "conda config --add channels https://mirrors.ustc.edu.cn/anaconda/cloud/msys2/  \n",
    "conda config --add channels https://mirrors.ustc.edu.cn/anaconda/cloud/bioconda/  \n",
    "conda config --add channels https://mirrors.ustc.edu.cn/anaconda/cloud/menpo/  \n",
    ">  \n",
    "conda config --set show_channel_urls yes  \n",
    "\n",
    "Linux下  \n",
    ">以上配置文件写在~/.condarc中  \n",
    ">    \n",
    "vim ~/.condarc  \n",
    ">  \n",
    "channels:  \n",
    "  - https://mirrors.ustc.edu.cn/anaconda/pkgs/main/  \n",
    "  - https://mirrors.ustc.edu.cn/anaconda/cloud/conda-forge/  \n",
    "  - https://mirrors.tuna.tsinghua.edu.cn/anaconda/pkgs/free/  \n",
    "  - defaults  \n",
    "show_channel_urls: true  "
   ]
  },
  {
   "cell_type": "markdown",
   "metadata": {},
   "source": [
    "# 防火墙配置\n"
   ]
  },
  {
   "cell_type": "markdown",
   "metadata": {},
   "source": [
    ">关闭防火墙  \n",
    "systemctl stop firewalld.service            #停止firewall  \n",
    "systemctl disable firewalld.service        #禁止firewall  \n",
    "开机启动  "
   ]
  },
  {
   "cell_type": "markdown",
   "metadata": {},
   "source": [
    ">开启端口\n",
    "firewall-cmd --zone=public --add-port=80/tcp --permanent   \n",
    ">+ 命令含义  \n",
    "--zone #作用域  \n",
    "--add-port=80/tcp #添加端口，格式为：端口/通讯协议  \n",
    "--permanent #永久生效，没有此参数重启后失效  "
   ]
  },
  {
   "cell_type": "markdown",
   "metadata": {},
   "source": [
    ">重启防火墙  \n",
    "firewall-cmd --reload"
   ]
  },
  {
   "cell_type": "markdown",
   "metadata": {},
   "source": [
    "其他常用命令：  \n",
    ">firewall-cmd --state                          ##查看防火墙状态，是否是running   \n",
    "firewall-cmd --reload                          ##重新载入配置，比如添加规则之后，需要执行此命令  \n",
    "firewall-cmd --get-zones                      ##列出支持的zone  \n",
    "firewall-cmd --get-services                    ##列出支持的服务，在列表中的服务是放行的  \n",
    "firewall-cmd --query-service ftp              ##查看ftp服务是否支持，返回yes或者no  \n",
    "firewall-cmd --add-service=ftp                ##临时开放ftp服务  \n",
    "firewall-cmd --add-service=ftp --permanent    ##永久开放ftp服务  \n",
    "firewall-cmd --remove-service=ftp --permanent  ##永久移除ftp服务  \n",
    "firewall-cmd --add-port=80/tcp --permanent    ##永久添加80端口   \n",
    "iptables -L -n                                ##查看规则，这个命令是和iptables的相同的  \n",
    "man firewall-cmd                              ##查看帮助  \n",
    "更多命令，使用 firewall-cmd --help 查看帮助文件"
   ]
  },
  {
   "cell_type": "markdown",
   "metadata": {},
   "source": [
    "iptables防火墙配置\n",
    ">CentOS 7.0默认使用的是__firewall__作为防火墙，使用iptables必须重新设置一下\n",
    ">\n",
    ">1、直接关闭防火墙\n",
    "systemctl stop firewalld.service          #停止firewall\n",
    "systemctl disable firewalld.service    #禁止firewall开机启动\n",
    ">\n",
    ">2、设置 iptables service   \n",
    ">   \n",
    "yum -y install iptables-services   \n",
    "如果要修改防火墙配置，如增加防火墙端口3306   \n",
    "vi /etc/sysconfig/iptables    \n",
    "增加规则   \n",
    "-A INPUT -m state --state NEW -m tcp -p tcp --dport 3306 -j ACCEPT   \n",
    ">\n",
    ">保存退出后  \n",
    "systemctl restart iptables.service #重启防火墙使配置生效  \n",
    "systemctl enable iptables.service #设置防火墙开机启动  "
   ]
  },
  {
   "cell_type": "markdown",
   "metadata": {},
   "source": [
    "# 安装yarn"
   ]
  },
  {
   "cell_type": "markdown",
   "metadata": {},
   "source": [
    "#### Yarn是与npm兼容的JavaScript软件包管理器，可帮助您自动化安装，更新，配置和删除npm软件包的过程。  \n",
    "\n",
    "#### 创建它的目的是解决npm的一系列问题，例如通过并行化操作并减少与网络连接有关的错误来加快软件包的安装过程。\n",
    "ps：__sudo下安装__"
   ]
  },
  {
   "cell_type": "markdown",
   "metadata": {},
   "source": [
    "如果您尚未在系统上安装 Node.js ，请使用以下 \n",
    "curl命令启用[Nodesource]存储库：\n",
    ">curl --silent --location https://rpm.nodesource.com/setup_10.x | sudo bash -"
   ]
  },
  {
   "cell_type": "markdown",
   "metadata": {},
   "source": [
    "通过输入以下内容安装Node.js软件包：\n",
    ">sudo yum install nodejs"
   ]
  },
  {
   "cell_type": "markdown",
   "metadata": {},
   "source": [
    "官方的Yarn存储库会得到持续维护，并提供最新版本。要启用Yarn存储库并导入存储库的GPG密钥，请发出以下命令：\n",
    ">curl --silent --location https://dl.yarnpkg.com/rpm/yarn.repo | sudo tee /etc/yum.repos.d/yarn.repo\n",
    "sudo rpm --import https://dl.yarnpkg.com/rpm/pubkey.gpg"
   ]
  },
  {
   "cell_type": "markdown",
   "metadata": {},
   "source": [
    "添加存储库后，您可以通过运行以下命令来安装Yarn：\n",
    ">sudo yum install yarn\n",
    "通过打印Yarn版本号来验证安装："
   ]
  },
  {
   "cell_type": "markdown",
   "metadata": {},
   "source": [
    "yarn --version\n",
    ">在撰写本文时，Yarn的最新版本为1.17.3。"
   ]
  },
  {
   "cell_type": "markdown",
   "metadata": {},
   "source": [
    "### 使用Yarn  \n",
    "  \n",
    "创建一个新项目  \n",
    ">要创建新的Yarn项目，请使用yarn init命令，后跟项目名称。例如，要创建一个名为my_project的项目，请输入：\n",
    "yarn init my_project\n",
    ">\n",
    "脚本会问您几个问题。您可以回答或按enter使用默认值：  \n",
    ">\n",
    ">yarn init v1.17.3  \n",
    "question name (vagrant): Linuxize  \n",
    "question version (1.0.0): 0.0.1  \n",
    "question description: Testing Yarn  \n",
    "question entry point (index.js):   \n",
    "question repository url:   \n",
    "question author: Linuxize  \n",
    "question license (MIT):    \n",
    "question private:   \n",
    "success Saved package.json  \n",
    ">\n",
    "完成后，脚本将创建一个基本的package.json文件，其中包含您提供的信息。您可以随时打开和编辑此文件。 \n",
    ">"
   ]
  },
  {
   "cell_type": "markdown",
   "metadata": {},
   "source": [
    "添加依赖项  \n",
    "如果要在项目中使用另一个包，则需要将其添加到项目依赖项中。为此，请使用yarn add命令，后跟软件包名称：  \n",
    ">  \n",
    "yarn add [package_name]  \n",
    "上面的命令还将更新项目文件package.json和yarn.lock。  "
   ]
  },
  {
   "cell_type": "markdown",
   "metadata": {},
   "source": [
    "您还可以指定软件包版本或软件包标签： \n",
    ">  \n",
    "yarn add [package_name]@[version_or_tag]  \n",
    "升级依赖项  \n",
    "要升级依赖项，请使用以下任一方法：  \n",
    "yarn upgrade [package_name]  \n",
    "yarn upgrade [package_name]@[version_or_tag]  \n",
    "上面的命令将根据package.json文件中指定的版本范围将项目依赖项更新为最新版本。  "
   ]
  },
  {
   "cell_type": "markdown",
   "metadata": {},
   "source": [
    "删除依赖  \n",
    "要删除依赖项，只需键入： \n",
    ">  \n",
    "yarn remove [package_name]  \n",
    "此命令还将更新项目的package.json和yarn.lock文件。  \n",
    "\n",
    "安装所有项目依赖项  \n",
    ">要安装在package.json文件中指定的现有项目的所有依赖项，请运行：  \n",
    "yarn  \n",
    "yarn install  "
   ]
  },
  {
   "cell_type": "markdown",
   "metadata": {},
   "source": [
    "# 环境变量"
   ]
  },
  {
   "cell_type": "markdown",
   "metadata": {},
   "source": []
  },
  {
   "cell_type": "markdown",
   "metadata": {},
   "source": [
    "linux添加环境变量分为两种情况： \n",
    ">\n",
    "临时变量，指当shell窗口关闭时变量失效，通过export命令添加  \n",
    "全局生效，修改/etc/profile文件，这样环境变量全局生效且不会因窗口的关闭而失效。  "
   ]
  },
  {
   "cell_type": "markdown",
   "metadata": {},
   "source": [
    "1.查看当前环境变量  \n",
    ">echo $PATH  "
   ]
  },
  {
   "cell_type": "markdown",
   "metadata": {},
   "source": [
    "2.添加临时环境变量  \n",
    ">eport PATH=/usr/local/bin:\\$PATH  \n",
    ">+ PATH是变量名，这里是指添加到PATH这个环境变量中  \n",
    ">+ =后面是要添加的环境变量  \n",
    ">+ :\\$PATH是指把新添加的环境变量与原先的环境变量重新赋值给PATH这个变量，这里可以看出如果有多个环境变量时，应该使用:进行分隔，如  \n",
    ">+ export PATH=/usr/local/php/bin:/usr/local/mysql/bin:$PATH  \n",
    ">+ 当然\\$PATH是放在开头还是最后是没有影响的  \n",
    "\n",
    "这种方法添加的环境变量会立即生效，但是在窗口关闭后便会失效  "
   ]
  },
  {
   "cell_type": "markdown",
   "metadata": {},
   "source": [
    "3.添加全局环境变量  \n",
    ">vim /etc/profile  \n",
    "// 如果只修改当前用户的环境变量，则是`vim ~/.bashrc`  \n",
    "// 在文件的最后一行添加以下代码：  \n",
    "__export PATH=$PATH:/usr/local/php/bin__  \n",
    "// 规则和用法如第二条所说  \n",
    "\n",
    "ps:\n",
    ">PATH=\\$PATH:/root/anaconda3/bin  #路径名跟自己实际情况而定  \n",
    "export PATH  "
   ]
  },
  {
   "cell_type": "markdown",
   "metadata": {},
   "source": [
    " \n",
    "4.问题  \n",
    ">我这里在/etc/profile下配置好环境变量后，每次关闭shell窗口后都需要再执行一次source /etc/profile才能生效，\n",
    "这个问题需要在~/.bashrc文件最后添加source /etc/profile，这样问题便得到解决。"
   ]
  },
  {
   "cell_type": "markdown",
   "metadata": {},
   "source": [
    "# 创建新用户"
   ]
  },
  {
   "cell_type": "markdown",
   "metadata": {},
   "source": [
    ">adduser linuxidc   \n",
    "为这个用户初始化密码，linux会判断密码复杂度，不过可以强行忽略：  \n",
    "\n",
    ">passwd linuxidc  \n",
    "更改用户 zhangbiao 的密码 。  "
   ]
  },
  {
   "cell_type": "markdown",
   "metadata": {},
   "source": [
    "新创建的用户并不能使用sudo命令，需要给他添加授权。  \n",
    "sudo命令的授权管理是在sudoers文件里的。可以看看sudoers：  \n",
    "\n",
    "查看\n",
    ">[root@localhost ~]# sudoers  \n",
    "[root@localhost ~]# whereis sudoers  \n",
    "[root@localhost ~]# ls -l /etc/sudoers  \n",
    "[root@localhost ~]# chmod -v u+w /etc/sudoers \n",
    "[root@localhost ~]# vim /etc/sudoers  \n",
    "\n",
    "修改\n",
    ">\\#\\# Allow root to run any commands anywher    \n",
    "root    ALL=(ALL)       ALL    \n",
    "linuxidc  ALL=(ALL)       ALL  #这个是新增的用户  \n",
    "wq保存退出，这时候要记得将写权限收回：  \n",
    "\n",
    "权限收回\n",
    ">[root@localhost ~]# chmod -v u-w /etc/sudoers  \n",
    "[linuxidc@localhost ~]$ sudo cat /etc/passwd  \n",
    "[sudo] password for linuxidc:   "
   ]
  },
  {
   "cell_type": "markdown",
   "metadata": {},
   "source": [
    "提示\n",
    ">We trust you have received the usual lecture from the local System  \n",
    "Administrator. It usually boils down to these three things:  \n",
    "> \n",
    ">    #1) Respect the privacy of others.  \n",
    ">    #2) Think before you type.  \n",
    ">    #3) With great power comes great responsibility.  \n",
    ">第一次使用会提示你，你已经化身超人，身负责任。而且需要输入密码才可以下一步。如果不想需要输入密码怎么办，将最后一个ALL修改成NOPASSWD: ALL。  "
   ]
  },
  {
   "cell_type": "code",
   "execution_count": null,
   "metadata": {},
   "outputs": [],
   "source": []
  }
 ],
 "metadata": {
  "kernelspec": {
   "display_name": "Python 3",
   "language": "python",
   "name": "python3"
  },
  "language_info": {
   "codemirror_mode": {
    "name": "ipython",
    "version": 3
   },
   "file_extension": ".py",
   "mimetype": "text/x-python",
   "name": "python",
   "nbconvert_exporter": "python",
   "pygments_lexer": "ipython3",
   "version": "3.7.1"
  }
 },
 "nbformat": 4,
 "nbformat_minor": 4
}
